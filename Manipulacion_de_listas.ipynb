{
 "cells": [
  {
   "cell_type": "markdown",
   "metadata": {
    "id": "El7mCmGSKxsN"
   },
   "source": [
    "# Actividad #2.2 - Práctica con Listas en Python\n",
    "Instrucciones:\n",
    "Los estudiantes deberán realizar los siguientes ejercicios prácticos utilizando listas en Python. Cada ejercicio debe ser resuelto en un script de Python (.py) y el resultado final debe ser exportado en un archivo PDF (que incluya el código y las capturas de pantalla de los resultados) para ser presentado en clase.\n",
    "\n",
    "1. Nombres de amigos\n",
    "\n",
    "·         Crea una lista llamada nombres que almacene los nombres de algunos de tus amigos.\n",
    "\n",
    "·         Imprime cada nombre accediendo a los elementos de la lista uno por uno.\n",
    "\n",
    "2. Saludos personalizados\n",
    "\n",
    "·         Usa la misma lista del ejercicio anterior (nombres).\n",
    "\n",
    "·         En lugar de solo imprimir los nombres, muestra un mensaje personalizado para cada persona. El texto del mensaje debe ser el mismo, pero incluyendo el nombre de cada uno.\n",
    "\n",
    "3. Lista de medios de transporte\n",
    "\n",
    "·         Piensa en tu medio de transporte favorito (por ejemplo, motocicleta, automóvil, bicicleta).\n",
    "\n",
    "·         Crea una lista llamada transportes que almacene varios ejemplos.\n",
    "\n",
    "·         Usa la lista para imprimir una serie de frases como:\n",
    "\"Me gustaría tener una motocicleta Honda.\"\n",
    "\n",
    "Desafio: Agrega un mensaje personalizado combinando las listas creadas (amigos y vehiculos)\n",
    "\n",
    "ejemplo:\n",
    "\n",
    "**\"Felicidades Esteban has comprado una moto marca ducati\"**\n",
    "\n",
    "Requisitos de entrega:\n",
    "\n",
    "·         Formato: Documento PDF (con código y capturas de resultados).\n",
    "\n",
    "·         Nombre del archivo: Apellido_Nombre_Listas_Python.pdf\n",
    "\n",
    "·         Fecha límite: [Indicar fecha de entrega]\n",
    "\n",
    "Nota: Asegúrate de que el código esté bien comentado y que las capturas de pantalla muestren claramente la ejecución del programa."
   ]
  },
  {
   "cell_type": "code",
   "execution_count": 52,
   "metadata": {
    "executionInfo": {
     "elapsed": 41,
     "status": "ok",
     "timestamp": 1750259536026,
     "user": {
      "displayName": "Esteban Gonzabay",
      "userId": "04836072987410751851"
     },
     "user_tz": 300
    },
    "id": "Ck1-nNrIIDPx"
   },
   "outputs": [],
   "source": [
    "amigos = ['Juan', 'Pedro', 'Maria', 'Carmen', 'Isabelle']"
   ]
  },
  {
   "cell_type": "code",
   "execution_count": 53,
   "metadata": {
    "colab": {
     "base_uri": "https://localhost:8080/"
    },
    "executionInfo": {
     "elapsed": 19,
     "status": "ok",
     "timestamp": 1750259566937,
     "user": {
      "displayName": "Esteban Gonzabay",
      "userId": "04836072987410751851"
     },
     "user_tz": 300
    },
    "id": "SRCicwMrIYg0",
    "outputId": "1a618a2d-16b5-4f1c-a5b0-1d87572d5aa7"
   },
   "outputs": [
    {
     "name": "stdout",
     "output_type": "stream",
     "text": [
      "Juan\n",
      "Pedro\n",
      "Maria\n",
      "Carmen\n",
      "Isabelle\n"
     ]
    }
   ],
   "source": [
    "print(amigos[0])\n",
    "print(amigos[1])\n",
    "print(amigos[2])\n",
    "print(amigos[3])\n",
    "print(amigos[4])"
   ]
  },
  {
   "cell_type": "code",
   "execution_count": 54,
   "metadata": {
    "colab": {
     "base_uri": "https://localhost:8080/"
    },
    "executionInfo": {
     "elapsed": 29,
     "status": "ok",
     "timestamp": 1750259634600,
     "user": {
      "displayName": "Esteban Gonzabay",
      "userId": "04836072987410751851"
     },
     "user_tz": 300
    },
    "id": "yLO9PUpAIdI0",
    "outputId": "5801dbfb-8c92-40ad-972f-9d9538b343a5"
   },
   "outputs": [],
   "source": [
    "mensaje1 = f\"Hola {amigos[0]} que tal te a ido en tu viaje?.\"\n",
    "mensaje2 = f\"Qe onda {amigos[1]} que hay de tu vida.\"\n",
    "mensaje3 = f\"{amigos[2]} tanto tiempo sin verte como has pasado?\"\n",
    "mensaje4 = f\"Buenos dias {amigos[3]} Bienvenido al colegio\"\n",
    "mensaje5 = f\"Hola {amigos[4]} como te fue en el trabajo?\"\n"
   ]
  },
  {
   "cell_type": "code",
   "execution_count": 55,
   "metadata": {
    "colab": {
     "base_uri": "https://localhost:8080/"
    },
    "executionInfo": {
     "elapsed": 21,
     "status": "ok",
     "timestamp": 1750259880252,
     "user": {
      "displayName": "Esteban Gonzabay",
      "userId": "04836072987410751851"
     },
     "user_tz": 300
    },
    "id": "NJoFkwqxnj6y",
    "outputId": "6161d92a-43e5-42fb-8d8e-9c9378c84390"
   },
   "outputs": [
    {
     "name": "stdout",
     "output_type": "stream",
     "text": [
      "Hola Juan que tal te a ido en tu viaje?.\n",
      "Qe onda Pedro que hay de tu vida.\n",
      "Maria tanto tiempo sin verte como has pasado?\n",
      "Buenos dias Carmen Bienvenido al colegio\n",
      "Hola Isabelle como te fue en el trabajo?\n"
     ]
    }
   ],
   "source": [
    "print(mensaje1)\n",
    "print(mensaje2)\n",
    "print(mensaje3)\n",
    "print(mensaje4)\n",
    "print(mensaje5)\n"
   ]
  },
  {
   "cell_type": "code",
   "execution_count": 56,
   "metadata": {},
   "outputs": [],
   "source": [
    "vehiculos = ['moto', 'bicicleta', 'tren', 'avion', 'barco']"
   ]
  },
  {
   "cell_type": "code",
   "execution_count": 57,
   "metadata": {},
   "outputs": [],
   "source": [
    "men1 = f\"Me gustaría tener una {vehiculos[0]} Suzuki.\"\n",
    "men2 = f\"Siempre he querido comprar una {vehiculos[1]} de montaña.\"\n",
    "men3 = f\"¿Te imaginas viajar en un {vehiculos[2]} bala por todo el pais?\"\n",
    "men4 = f\"Un dia quiero pilotar un {vehiculos[3]} comercial.\"\n",
    "men5 = f\"Seria genial dar un paseo en {vehiculos[4]} por el Caribe.\"\n"
   ]
  },
  {
   "cell_type": "code",
   "execution_count": 58,
   "metadata": {},
   "outputs": [
    {
     "name": "stdout",
     "output_type": "stream",
     "text": [
      "Me gustaría tener una moto Suzuki.\n",
      "Siempre he querido comprar una bicicleta de montaña.\n",
      "¿Te imaginas viajar en un tren bala por todo el pais?\n",
      "Un dia quiero pilotar un avion comercial.\n",
      "Seria genial dar un paseo en barco por el Caribe.\n"
     ]
    }
   ],
   "source": [
    "print(men1)\n",
    "print(men2)\n",
    "print(men3)\n",
    "print(men4)\n",
    "print(men5)"
   ]
  },
  {
   "cell_type": "code",
   "execution_count": 59,
   "metadata": {},
   "outputs": [],
   "source": [
    "mensaje_juan = f\"Hola {amigos[0]}, imagina que salimos a recorrer la carretera en una {vehiculos[0]} nueva. Seria increible!\"\n",
    "mensaje_pedro = f\"{amigos[1]}, te animarias a hacer una ruta ecologica conmigo en una {vehiculos[1]}? Seria como en los viejos tiempos.\"\n",
    "mensaje_maria = f\"{amigos[2]}, siempre he soñado con cruzar el pais en un {vehiculos[2]}, y tu serias la mejor compania!\"\n",
    "mensaje_carmen = f\"Buenos dias {amigos[3]}, te gustaria volar conmigo en un {vehiculos[3]} privado? Seria una gran aventura!\"\n",
    "mensaje_isabelle = f\"{amigos[4]}, un paseo en {vehiculos[4]} al atardecer contigo seria inolvidable. Te animas?\""
   ]
  },
  {
   "cell_type": "code",
   "execution_count": 60,
   "metadata": {},
   "outputs": [
    {
     "name": "stdout",
     "output_type": "stream",
     "text": [
      "Hola Juan, imagina que salimos a recorrer la carretera en una moto nueva. Seria increible!\n",
      "Pedro, te animarias a hacer una ruta ecologica conmigo en una bicicleta? Seria como en los viejos tiempos.\n",
      "Maria, siempre he soñado con cruzar el pais en un tren, y tu serias la mejor compania!\n",
      "Buenos dias Carmen, te gustaria volar conmigo en un avion privado? Seria una gran aventura!\n",
      "Isabelle, un paseo en barco al atardecer contigo seria inolvidable. Te animas?\n"
     ]
    }
   ],
   "source": [
    "print(mensaje_juan)\n",
    "print(mensaje_pedro)\n",
    "print(mensaje_maria)\n",
    "print(mensaje_carmen)\n",
    "print(mensaje_isabelle)"
   ]
  },
  {
   "cell_type": "markdown",
   "metadata": {},
   "source": [
    "Instrucciones:\n",
    "Los estudiantes deberán resolver los siguientes ejercicios prácticos utilizando listas en Python. Cada ejercicio debe ser desarrollado en un script de Python (.py) y el resultado final debe ser exportado en un archivo PDF (que incluya el código y las capturas de pantalla de los resultados) para ser presentado en clase y subido a Moodle.\n",
    "\n",
    "Ejercicios:\n",
    "\n",
    "1. Lista de Invitados\n",
    "\n",
    "·         Crea una lista llamada invitados que incluya al menos tres personas (reales o ficticias) que te gustaría invitar a cenar.\n",
    "\n",
    "·         Utiliza la lista para imprimir un mensaje personalizado invitando a cada persona a cenar.\n",
    "\n",
    "2. Cambio en la Lista de Invitados\n",
    "\n",
    "·         Parte del código del ejercicio anterior.\n",
    "\n",
    "·         Agrega una llamada a print() que muestre el nombre del invitado que no podrá asistir.\n",
    "\n",
    "·         Modifica la lista, reemplazando el nombre del invitado que no asistirá con el de una nueva persona.\n",
    "\n",
    "·         Imprime un nuevo conjunto de mensajes de invitación, uno para cada persona que sigue en la lista.\n",
    "\n",
    "3. Más Invitados\n",
    "\n",
    "·         Parte del código del ejercicio anterior.\n",
    "\n",
    "·         Agrega una llamada a print() informando que hay una mesa más grande disponible.\n",
    "\n",
    "·         Usa insert() para agregar un nuevo invitado al inicio de la lista.\n",
    "\n",
    "·         Usa insert() para agregar un nuevo invitado al medio de la lista.\n",
    "\n",
    "·         Usa append() para agregar un nuevo invitado al final de la lista.\n",
    "\n",
    "·         Imprime un nuevo conjunto de mensajes de invitación, uno para cada persona en la lista.\n",
    "\n",
    "4. Reducción de la Lista de Invitados\n",
    "\n",
    "·         Parte del código del ejercicio anterior.\n",
    "\n",
    "·         Agrega una llamada a print() indicando que solo se puede invitar a dos personas.\n",
    "\n",
    "·         Utiliza pop() para eliminar invitados de la lista uno por uno hasta que solo queden dos nombres. Cada vez que elimines un nombre, imprime un mensaje disculpándote por no poder invitarlo.\n",
    "\n",
    "·         Imprime un mensaje a las dos personas que siguen en la lista, confirmando su invitación.\n",
    "\n",
    "·         Usa del para eliminar los dos nombres restantes, dejando la lista vacía. Imprime la lista para verificar que esté vacía al final.\n",
    "\n",
    "Requisitos de entrega:\n",
    "\n",
    "✅ Formato: Documento PDF (con código y capturas de resultados).\n",
    "✅ Nombre del archivo: Apellido_Nombre_ListaInvitados_Python.pdf\n",
    "✅ Fecha límite: [Indicar fecha de entrega]\n",
    "\n",
    "Nota: El código debe estar correctamente comentado y las capturas de pantalla deben mostrar claramente la ejecución del programa.\n"
   ]
  },
  {
   "cell_type": "code",
   "execution_count": 61,
   "metadata": {
    "id": "t9nMku1dKXuc"
   },
   "outputs": [
    {
     "name": "stdout",
     "output_type": "stream",
     "text": [
      "Hola Juan, me gustaría invitarte a cenar este fin de semana. ¿Te gustaría acompañarme?\n",
      "Buenas tardes Pedro, ¿qué tal? Este fin de semana estamos organizando una cena y sería genial que vinieras.\n",
      "Buenaaaaas Maria, ¡me encantaría que vinieras a cenar este fin de semana! ¿Qué opinas?\n",
      "Que mas pues Carmen, ¿te gustaría acompañarnos a una cena este fin de semana? Estaría genial verte.\n",
      "Confirma Isabelle, este fin de semana estoy organizando una cena y me gustaría que fueras parte de ella.\n"
     ]
    }
   ],
   "source": [
    "invitados = ['Juan', 'Pedro', 'Maria', 'Carmen', 'Isabelle']\n",
    "print(f\"Hola {invitados[0]}, me gustaría invitarte a cenar este fin de semana. ¿Te gustaría acompañarme?\")\n",
    "print(f\"Buenas tardes {invitados[1]}, ¿qué tal? Este fin de semana estamos organizando una cena y sería genial que vinieras.\")\n",
    "print(f\"Buenaaaaas {invitados[2]}, ¡me encantaría que vinieras a cenar este fin de semana! ¿Qué opinas?\")\n",
    "print(f\"Que mas pues {invitados[3]}, ¿te gustaría acompañarnos a una cena este fin de semana? Estaría genial verte.\")\n",
    "print(f\"Confirma {invitados[4]}, este fin de semana estoy organizando una cena y me gustaría que fueras parte de ella.\")"
   ]
  },
  {
   "cell_type": "code",
   "execution_count": 63,
   "metadata": {
    "colab": {
     "base_uri": "https://localhost:8080/"
    },
    "executionInfo": {
     "elapsed": 6,
     "status": "ok",
     "timestamp": 1750252827454,
     "user": {
      "displayName": "Esteban Gonzabay",
      "userId": "04836072987410751851"
     },
     "user_tz": 300
    },
    "id": "YIzjZuEgMjiF",
    "outputId": "f35d3016-5a76-4cc2-9d1b-eb2fb392c4a6"
   },
   "outputs": [
    {
     "name": "stdout",
     "output_type": "stream",
     "text": [
      "Pedro no va a poder asistir a la cena\n",
      "['Juan', 'Gabriel', 'Maria', 'Carmen', 'Isabelle']\n",
      "Hola Juan, ¿te gustaría acompañarnos a una cena este fin de semana? Estaría genial verte.\n",
      "Hola Gabriel, este fin de semana estoy organizando una cena y me gustaría que fueras parte de ella.\n",
      "Hola Maria, ¡me encantaría que vinieras a cenar! Este fin de semana vamos a reunirnos y te esperamos.\n",
      "Hola Carmen, ¿te gustaría acompañarnos a una cena este fin de semana? Estarías muy bienvenido.\n",
      "Hola Isabelle, este fin de semana vamos a tener una cena y sería genial contar con tu presencia.\n"
     ]
    }
   ],
   "source": [
    "sinAsistir = 'Pedro'\n",
    "print(f'{sinAsistir} no va a poder asistir a la cena')\n",
    "invitados [1] = 'Gabriel'\n",
    "print(invitados)\n",
    "print(f\"Hola {invitados[0]}, ¿te gustaría acompañarnos a una cena este fin de semana? Estaría genial verte.\")\n",
    "print(f\"Hola {invitados[1]}, este fin de semana estoy organizando una cena y me gustaría que fueras parte de ella.\")\n",
    "print(f\"Hola {invitados[2]}, ¡me encantaría que vinieras a cenar! Este fin de semana vamos a reunirnos y te esperamos.\")\n",
    "print(f\"Hola {invitados[3]}, ¿te gustaría acompañarnos a una cena este fin de semana? Estarías muy bienvenido.\")\n",
    "print(f\"Hola {invitados[4]}, este fin de semana vamos a tener una cena y sería genial contar con tu presencia.\")"
   ]
  },
  {
   "cell_type": "code",
   "execution_count": null,
   "metadata": {
    "colab": {
     "base_uri": "https://localhost:8080/"
    },
    "executionInfo": {
     "elapsed": 9,
     "status": "ok",
     "timestamp": 1750252830643,
     "user": {
      "displayName": "Esteban Gonzabay",
      "userId": "04836072987410751851"
     },
     "user_tz": 300
    },
    "id": "vRm4BX22MdUM",
    "outputId": "72bd300b-fdf2-4891-96d9-e3d341412885"
   },
   "outputs": [
    {
     "name": "stdout",
     "output_type": "stream",
     "text": [
      "Hay una mesa mas grande por lo que se agregaran mas invitados a la lista.\n",
      "['Ana', 'Juan', 'Gabriel', 'Maria', 'Manuel', 'Carmen', 'Isabelle', 'Tadeo']\n"
     ]
    }
   ],
   "source": [
    "print('Hay una mesa mas grande por lo que se agregaran mas invitados a la lista.')\n",
    "invitados.insert(0, 'Ana')\n",
    "invitados.insert(4, 'Manuel')\n",
    "invitados.append('Tadeo')\n",
    "print(f\"Hola {invitados[0]} Estoy organizando una cena este fin de semana. Me encantaría que pudieras venir.\")\n",
    "print(f\"Hola {invitados[1]} ¿Qué tal? Este fin de semana tengo una cena y me gustaría que la compartieras conmigo.\")\n",
    "print(f\"Hola {invitados[2]} Estaba pensando que sería genial tenerte en la cena que estoy organizando este fin de semana.\")\n",
    "print(f\"Hola {invitados[3]} Me gustaría invitarte a una cena este fin de semana. ¿Te gustaría venir y pasar un buen rato?\")\n",
    "print(f\"Hola {invitados[4]} Este fin de semana estoy organizando una cena, y sería genial contar con tu presencia.\")\n",
    "print(f\"Hola {invitados[5]} ¿Qué te parece si te unes a nuestra cena este fin de semana? ¡Te va a encantar!\")\n",
    "print(f\"Hola {invitados[6]} Me gustaría invitarte a una cena este fin de semana. Sería fantástico que pudieras asistir.\")\n",
    "print(f\"Hola {invitados[7]} Este fin de semana estamos organizando una cena, ¿te gustaría ser parte de ella? Sería genial tenerte.\")"
   ]
  },
  {
   "cell_type": "code",
   "execution_count": null,
   "metadata": {
    "colab": {
     "base_uri": "https://localhost:8080/"
    },
    "executionInfo": {
     "elapsed": 13,
     "status": "ok",
     "timestamp": 1750252973278,
     "user": {
      "displayName": "Esteban Gonzabay",
      "userId": "04836072987410751851"
     },
     "user_tz": 300
    },
    "id": "wQ9kByiWMgIF",
    "outputId": "1528b963-4bf7-4588-8afe-16d942030342"
   },
   "outputs": [
    {
     "name": "stdout",
     "output_type": "stream",
     "text": [
      "Disculparan los inconvenientes pero solo podran asistir dos personas a la cena.\n",
      "Lo siento Tadeo, no puedo invitarte a la cena este fin de semana.\n",
      "Lo siento Isabelle, no puedo invitarte a la cena este fin de semana.\n",
      "Lo siento Carmen, no puedo invitarte a la cena este fin de semana.\n",
      "Lo siento Manuel, no puedo invitarte a la cena este fin de semana.\n",
      "Lo siento Maria, no puedo invitarte a la cena este fin de semana.\n",
      "Lo siento Gabriel, no puedo invitarte a la cena este fin de semana.\n",
      "Excelente noticia Ana, te confirmo que estas invitado a la cena este fin de semana!\n",
      "Juan, tambien estás invitado Me alegra que puedas acompañarnos.\n",
      "Lista final de invitados: []\n"
     ]
    }
   ],
   "source": [
    "print(\"Disculparan los inconvenientes pero solo podran asistir dos personas a la cena.\")\n",
    "invitado1 = invitados.pop()\n",
    "print(f\"Lo siento {invitado1}, no puedo invitarte a la cena este fin de semana.\")\n",
    "invitado2 = invitados.pop()\n",
    "print(f\"Lo siento {invitado2}, no puedo invitarte a la cena este fin de semana.\")\n",
    "invitado3 = invitados.pop()\n",
    "print(f\"Lo siento {invitado3}, no puedo invitarte a la cena este fin de semana.\")\n",
    "invitado4 = invitados.pop()\n",
    "print(f\"Lo siento {invitado4}, no puedo invitarte a la cena este fin de semana.\")\n",
    "invitado5 = invitados.pop()\n",
    "print(f\"Lo siento {invitado5}, no puedo invitarte a la cena este fin de semana.\")\n",
    "invitado6 = invitados.pop()\n",
    "print(f\"Lo siento {invitado6}, no puedo invitarte a la cena este fin de semana.\")\n",
    "\n",
    "print(f\"Excelente noticia {invitados[0]}, te confirmo que estas invitado a la cena este fin de semana!\")\n",
    "print(f\"{invitados[1]}, tambien estás invitado Me alegra que puedas acompañarnos.\")\n",
    "\n",
    "del invitados[0]\n",
    "del invitados[0]\n",
    "\n",
    "print(f\"Lista final de invitados: {invitados}\") #lista vacia"
   ]
  },
  {
   "cell_type": "markdown",
   "metadata": {},
   "source": [
    "**Actividad #2.4 - Manipulación Avanzada de Listas en Python**\n",
    "**Instrucciones:**\n",
    "\n",
    "Los estudiantes deberán resolver los siguientes ejercicios prácticos utilizando listas en Python. Cada ejercicio debe ser desarrollado en un script de Python (.py) y el resultado final debe ser exportado en un archivo PDF (que incluya el código y las capturas de pantalla de los resultados) para ser presentado en clase y subido a Moodle.\n",
    "\n",
    "Ejercicios:\n",
    "\n",
    "1. Lugares del Mundo por Visitar\n",
    "\n",
    "·         Crea una lista llamada lugares que contenga al menos cinco lugares del mundo que te gustaría visitar. Asegúrate de que la lista no esté en orden alfabético.\n",
    "\n",
    "·         Imprime la lista en su orden original.\n",
    "\n",
    "·         Usa sorted() para imprimir la lista en orden alfabético sin modificar la lista original.\n",
    "\n",
    "·         Imprime la lista nuevamente para demostrar que conserva su orden original.\n",
    "\n",
    "·         Usa sorted() para imprimir la lista en orden alfabético inverso sin modificar la lista original.\n",
    "\n",
    "·         Imprime la lista nuevamente para demostrar que conserva su orden original.\n",
    "\n",
    "·         Usa reverse() para invertir el orden de la lista. Imprime la lista para mostrar el cambio.\n",
    "\n",
    "·         Usa reverse() nuevamente para restaurar el orden original de la lista. Imprime la lista para mostrar el cambio.\n",
    "\n",
    "·         Usa sort() para ordenar la lista en orden alfabético permanente. Imprime la lista para mostrar el cambio.\n",
    "\n",
    "·         Usa sort() para ordenar la lista en orden alfabético inverso permanente. Imprime la lista para mostrar el cambio.\n",
    "\n",
    "2. Conteo de Invitados a Cenar\n",
    "\n",
    "Retoma uno de los programas de los ejercicios anteriores\n",
    "Usa len() para imprimir un mensaje que indique el número de personas que estás invitando a cenar.\n",
    "3. Práctica con Todas las Funciones de Listas\n",
    "\n",
    "·         Elige una categoría (montañas, ríos, países, ciudades, idiomas, etc.) y crea una lista llamada elementos que contenga al menos cinco ítems relacionados.\n",
    "\n",
    "·         Escribe un programa que utilice todas las funciones de listas vistas en el capítulo al menos una vez. Estas funciones deben incluir:\n",
    "\n",
    "* append()\n",
    "* insert()\n",
    "* del\n",
    "* pop()\n",
    "* remove()\n",
    "* sorted()\n",
    "* sort()\n",
    "* reverse()\n",
    "* len()\n",
    "\n",
    "Requisitos de entrega:\n",
    "\n",
    "* Formato: Documento PDF (con código y capturas de resultados).\n",
    "\n",
    "* Nombre del archivo: Apellido_Nombre_ListasAvanzadas_Python.pdf\n",
    "\n",
    "* Fecha límite: [Indicar fecha de entrega]\n",
    "\n",
    "Nota: El código debe estar correctamente comentado y las capturas de pantalla deben mostrar claramente la ejecución del programa.\n",
    "\n"
   ]
  },
  {
   "cell_type": "markdown",
   "metadata": {
    "id": "wMOr-meVQLjc"
   },
   "source": [
    "**ORGANIZACION DE UNA LISTA**"
   ]
  },
  {
   "cell_type": "markdown",
   "metadata": {
    "id": "8viZYYtMQyuG"
   },
   "source": [
    "Metodo sort()"
   ]
  },
  {
   "cell_type": "code",
   "execution_count": 73,
   "metadata": {
    "colab": {
     "base_uri": "https://localhost:8080/"
    },
    "executionInfo": {
     "elapsed": 18,
     "status": "ok",
     "timestamp": 1750254296635,
     "user": {
      "displayName": "Esteban Gonzabay",
      "userId": "04836072987410751851"
     },
     "user_tz": 300
    },
    "id": "5DHYx3z1Qv2V",
    "outputId": "bbcb0187-9a7b-465e-86a1-cb707bccd764"
   },
   "outputs": [
    {
     "name": "stdout",
     "output_type": "stream",
     "text": [
      "['Paris', 'Tokio', 'Ecuador', 'Egipto', 'Bora-Bora']\n",
      "['Bora-Bora', 'Ecuador', 'Egipto', 'Paris', 'Tokio']\n",
      "['Tokio', 'Paris', 'Egipto', 'Ecuador', 'Bora-Bora']\n",
      "['Bora-Bora', 'Ecuador', 'Egipto', 'Paris', 'Tokio']\n",
      "['Tokio', 'Paris', 'Egipto', 'Ecuador', 'Bora-Bora']\n",
      "['Bora-Bora', 'Ecuador', 'Egipto', 'Paris', 'Tokio']\n"
     ]
    }
   ],
   "source": [
    "lugares = ['Paris', 'Tokio', 'Ecuador', 'Egipto', 'Bora-Bora']\n",
    "print(lugares)\n",
    "\n",
    "#orden alfabetico\n",
    "print(sorted(lugares))\n",
    "#orden alfabetico inverso\n",
    "lugares.sort(reverse=True)\n",
    "print(lugares)\n",
    "#invertir el orden\n",
    "lugares.reverse()\n",
    "print(lugares)\n",
    "#restaurar el orden original\n",
    "lugares.reverse()\n",
    "print(lugares)\n",
    "#orden alfabético inverso permanente\n",
    "lugares.sort()\n",
    "print(lugares)\n"
   ]
  },
  {
   "cell_type": "code",
   "execution_count": 75,
   "metadata": {
    "colab": {
     "base_uri": "https://localhost:8080/"
    },
    "executionInfo": {
     "elapsed": 10,
     "status": "ok",
     "timestamp": 1750254302520,
     "user": {
      "displayName": "Esteban Gonzabay",
      "userId": "04836072987410751851"
     },
     "user_tz": 300
    },
    "id": "g54dgIrQQ9b2",
    "outputId": "38c5e744-7de9-4d03-c7b2-5f0d9a12595c"
   },
   "outputs": [
    {
     "data": {
      "text/plain": [
       "0"
      ]
     },
     "execution_count": 75,
     "metadata": {},
     "output_type": "execute_result"
    }
   ],
   "source": [
    "len(invitados)"
   ]
  },
  {
   "cell_type": "code",
   "execution_count": 76,
   "metadata": {
    "colab": {
     "base_uri": "https://localhost:8080/"
    },
    "executionInfo": {
     "elapsed": 23,
     "status": "ok",
     "timestamp": 1750254305801,
     "user": {
      "displayName": "Esteban Gonzabay",
      "userId": "04836072987410751851"
     },
     "user_tz": 300
    },
    "id": "P1Rlu-49RXq8",
    "outputId": "704d09e1-51ee-4950-ba00-e228dcf66e9c"
   },
   "outputs": [
    {
     "name": "stdout",
     "output_type": "stream",
     "text": [
      "['Francia', 'encebollado', 'Mexico', 'God of War', 'Brasil']\n",
      "['Brasil', 'Francia', 'God of War', 'Mexico', 'encebollado']\n",
      "['encebollado', 'Mexico', 'God of War', 'Francia', 'Brasil']\n",
      "['Brasil', 'Francia', 'God of War', 'Mexico', 'encebollado']\n",
      "['encebollado', 'Mexico', 'God of War', 'Francia', 'Brasil']\n",
      "['Brasil', 'Francia', 'God of War', 'Mexico', 'encebollado']\n",
      "['Brasil', 'Francia', 'God of War', 'Mexico', 'encebollado', 'Australia']\n",
      "['Brasil', 'Francia', 'Canada', 'God of War', 'Mexico', 'encebollado', 'Australia']\n",
      "['Brasil', 'Francia', 'Canada', 'God of War', 'Mexico', 'encebollado']\n",
      "Se ha eliminado el elemento: Brasil\n",
      "['Francia', 'Canada', 'God of War', 'Mexico', 'encebollado']\n",
      "['Francia', 'Canada', 'God of War', 'encebollado']\n",
      "La longitud de la lista es: 4\n",
      "['encebollado', 'God of War', 'Canada', 'Francia']\n",
      "['encebollado', 'Jamaica', 'God of War', 'Canada', 'Francia', 'Italia']\n",
      "['encebollado', 'Jamaica', 'Italia', 'God of War', 'Francia', 'Canada']\n",
      "['Canada', 'Francia', 'God of War', 'Italia', 'Jamaica', 'encebollado']\n",
      "[]\n"
     ]
    }
   ],
   "source": [
    "# Lista de elementos\n",
    "elementos = ['Francia', 'encebollado', 'Mexico', 'God of War', 'Brasil']\n",
    "print(elementos)\n",
    "\n",
    "# Orden alfabetico\n",
    "print(sorted(elementos))\n",
    "\n",
    "# Orden alfabetico inverso\n",
    "elementos.sort(reverse=True)\n",
    "print(elementos)\n",
    "\n",
    "# Invertir el orden\n",
    "elementos.reverse()\n",
    "print(elementos)\n",
    "\n",
    "# Restaurar el orden original\n",
    "elementos.reverse()\n",
    "print(elementos)\n",
    "\n",
    "# Orden alfabetico permanente\n",
    "elementos.sort()\n",
    "print(elementos)\n",
    "\n",
    "# Agregar un elemento al final de la lista\n",
    "elementos.append('Australia')\n",
    "print(elementos)\n",
    "\n",
    "# Insertar un elemento en la posicion 2\n",
    "elementos.insert(2, 'Canada')\n",
    "print(elementos)\n",
    "\n",
    "# Eliminar el ultimo elemento de la lista\n",
    "del elementos[-1]\n",
    "print(elementos)\n",
    "\n",
    "# Eliminar el primer elemento de la lista con pop\n",
    "elemento_eliminado = elementos.pop(0)\n",
    "print(f\"Se ha eliminado el elemento: {elemento_eliminado}\")\n",
    "print(elementos)\n",
    "\n",
    "# Eliminar un elemento especifico (en este caso \"Mexico\")\n",
    "elementos.remove('Mexico')\n",
    "print(elementos)\n",
    "\n",
    "# Imprimir la longitud de la lista\n",
    "print(f\"La longitud de la lista es: {len(elementos)}\")\n",
    "\n",
    "# Invertir el orden de la lista permanentemente\n",
    "elementos.reverse()\n",
    "print(elementos)\n",
    "\n",
    "# Agregar elementos adicionales a la lista\n",
    "elementos.append('Italia')\n",
    "elementos.insert(1, 'Jamaica')\n",
    "print(elementos)\n",
    "\n",
    "# Ordenar la lista en orden alfabetico inverso\n",
    "elementos.sort(reverse=True)\n",
    "print(elementos)\n",
    "\n",
    "# Ordenar la lista en orden alfabetico\n",
    "elementos.sort()\n",
    "print(elementos)\n",
    "\n",
    "# Eliminar todos los elementos de la lista\n",
    "elementos.clear()\n",
    "print(elementos)\n"
   ]
  }
 ],
 "metadata": {
  "colab": {
   "authorship_tag": "ABX9TyNDn16+hw5Xc6jbEM06yzbJ",
   "provenance": []
  },
  "kernelspec": {
   "display_name": "Python 3",
   "name": "python3"
  },
  "language_info": {
   "codemirror_mode": {
    "name": "ipython",
    "version": 3
   },
   "file_extension": ".py",
   "mimetype": "text/x-python",
   "name": "python",
   "nbconvert_exporter": "python",
   "pygments_lexer": "ipython3",
   "version": "3.12.4"
  }
 },
 "nbformat": 4,
 "nbformat_minor": 0
}
